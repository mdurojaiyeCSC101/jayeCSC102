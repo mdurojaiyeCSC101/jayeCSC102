{
 "cells": [
  {
   "cell_type": "code",
   "execution_count": null,
   "id": "345fa585-31d1-401c-a83b-b3a7cf89a392",
   "metadata": {},
   "outputs": [],
   "source": [
    "def printme(str):\n",
    "    "
   ]
  }
 ],
 "metadata": {
  "kernelspec": {
   "display_name": "Python [conda env:base] *",
   "language": "python",
   "name": "conda-base-py"
  },
  "language_info": {
   "codemirror_mode": {
    "name": "ipython",
    "version": 3
   },
   "file_extension": ".py",
   "mimetype": "text/x-python",
   "name": "python",
   "nbconvert_exporter": "python",
   "pygments_lexer": "ipython3",
   "version": "3.12.7"
  }
 },
 "nbformat": 4,
 "nbformat_minor": 5
}

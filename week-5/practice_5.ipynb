{
 "cells": [
  {
   "cell_type": "code",
   "execution_count": 24,
   "id": "0e534964-1f56-4dba-a780-fc3339fb403b",
   "metadata": {},
   "outputs": [
    {
     "name": "stdin",
     "output_type": "stream",
     "text": [
      "Enter your rad: \n",
      " 4\n"
     ]
    },
    {
     "name": "stdout",
     "output_type": "stream",
     "text": [
      "50.24\n"
     ]
    }
   ],
   "source": [
    "def calculate_area(rad):\n",
    "    pi = 3.14\n",
    "    area = pi * rad ** 2\n",
    "    return area\n",
    "\n",
    "rad = int(input(\"Enter your rad: \\n\"))\n",
    "print(calculate_area(rad))"
   ]
  },
  {
   "cell_type": "code",
   "execution_count": 59,
   "id": "9b96bf55-8ade-4c3d-9e87-065c9fd9b44a",
   "metadata": {},
   "outputs": [
    {
     "name": "stdout",
     "output_type": "stream",
     "text": [
      "madam is a palindrome\n",
      "None\n"
     ]
    }
   ],
   "source": [
    "def palindrome(str):\n",
    "    reverse_of_strings = \"\"\n",
    "    for i in str:\n",
    "        reverse_of_strings = i + reverse_of_strings\n",
    "    if str == reverse_of_strings:\n",
    "        print(f\"{str} is a palindrome\")\n",
    "    else:\n",
    "        print(f\"{str} is not a palindrome\")\n",
    "\n",
    "input_string = \"madam\"\n",
    "print(palindrome(input_string))"
   ]
  },
  {
   "cell_type": "code",
   "execution_count": 54,
   "id": "5ecdcd42-fac4-447e-afc9-fc389e07d3bd",
   "metadata": {},
   "outputs": [
    {
     "name": "stdout",
     "output_type": "stream",
     "text": [
      "[1, 2, 3, 4, 6, 8, 12, 24]\n"
     ]
    }
   ],
   "source": [
    "def find_factors(int):\n",
    "    factors = []\n",
    "    if int >= 0:\n",
    "        for i in range(1, int + 1):\n",
    "            if int % i == 0:\n",
    "                factors.append(i)\n",
    "    print(factors)\n",
    "        \n",
    "find_factors(24)\n"
   ]
  },
  {
   "cell_type": "code",
   "execution_count": null,
   "id": "e39b918d-6747-47c2-95ee-fd276ed39484",
   "metadata": {},
   "outputs": [],
   "source": []
  }
 ],
 "metadata": {
  "kernelspec": {
   "display_name": "Python [conda env:base] *",
   "language": "python",
   "name": "conda-base-py"
  },
  "language_info": {
   "codemirror_mode": {
    "name": "ipython",
    "version": 3
   },
   "file_extension": ".py",
   "mimetype": "text/x-python",
   "name": "python",
   "nbconvert_exporter": "python",
   "pygments_lexer": "ipython3",
   "version": "3.12.7"
  }
 },
 "nbformat": 4,
 "nbformat_minor": 5
}

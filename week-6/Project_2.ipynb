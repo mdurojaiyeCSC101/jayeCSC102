{
 "cells": [
  {
   "cell_type": "code",
   "execution_count": null,
   "id": "9eb34cf1",
   "metadata": {},
   "outputs": [
    {
     "ename": "SyntaxError",
     "evalue": "unterminated string literal (detected at line 39) (1760249210.py, line 39)",
     "output_type": "error",
     "traceback": [
      "\u001b[1;36m  Cell \u001b[1;32mIn[7], line 39\u001b[1;36m\u001b[0m\n\u001b[1;33m    if jamb_score >= 250 and credits >= 5 and interview == \"yes\\\":\u001b[0m\n\u001b[1;37m                                                           ^\u001b[0m\n\u001b[1;31mSyntaxError\u001b[0m\u001b[1;31m:\u001b[0m unterminated string literal (detected at line 39)\n"
     ]
    }
   ],
   "source": [
    "{\n",
    "                def check_admission():\n",
    "                    admitted = []\n",
    "                    not_admitted = []\n",
    "                \n",
    "                    while True:\n",
    "                        print(\"\\\\nEnter candidate details (or type 'exit' to stop):\")\n",
    "                        name = input(\"Name: \")\n",
    "                        if name.lower() == 'exit':\n",
    "                \n",
    "                        department = input(\"Department (Computer Science/Mass Communication): \").strip().lower()\n",
    "                        jamb_score = int(input(\"JAMB Score: \"))\n",
    "                \n",
    "                        # Input grades for the 5 key subjects\n",
    "                        if department == \"computer science\":\n",
    "                            print(\"Enter grades for the following subjects (A=5, B=4, C=3, D=2, F=0):\")\n",
    "                            maths = int(input(\"Mathematics: \"))\n",
    "                            english = int(input(\"English: \"))\n",
    "                            physics = int(input(\"Physics: \"))\n",
    "                            chemistry = int(input(\"Chemistry: \"))\n",
    "                            biology = int(input(\"Biology: \"))\n",
    "                            credits = sum(1 for grade in [maths, english, physics, chemistry, biology] if grade >= 3)\n",
    "                        elif department == \"mass communication\":\n",
    "                            print(\"Enter grades for the following subjects (A=5, B=4, C=3, D=2, F=0):\")\n",
    "                            maths = int(input(\"Mathematics: \"))\n",
    "                            english = int(input(\"English: \"))\n",
    "                            literature = int(input(\"Literature: \"))\n",
    "                            government = int(input(\"Government: \"))\n",
    "                            history = int(input(\"History: \"))\n",
    "                            credits = sum(1 for grade in [maths, english, literature, government, history] if grade >= 3)\n",
    "                        else:\n",
    "                            print(\"Invalid department entered. Please try again.\")\n",
    "                            continue\n",
    "                \n",
    "                        interview = input(\"Passed Interview? (yes/no): \").strip().lower()\n",
    "                \n",
    "                        # Check admission criteria\n",
    "                        if department == \"computer science\":\n",
    "                            if jamb_score >= 250 and credits >= 5 and interview == \"yes\":\n",
    "                                admitted.append(name)\n",
    "                            else:\n",
    "                                not_admitted.append(name)\n",
    "                        elif department == \"mass communication\":\n",
    "                            if jamb_score >= 230 and credits >= 5 and interview == \"yes\":\n",
    "                                admitted.append(name)\n",
    "                            else:\n",
    "                                not_admitted.append(name)\n",
    "                \n",
    "                    # Display results\n",
    "                    print(\"\\\\nAdmitted Candidates:\\\", admitted\")\n",
    "                    print(\"Not Admitted Candidates:\\\", not_admitted\")\n",
    "                \n",
    "                # Run the program\n",
    "                check_admission()\n",
    "            \n",
    " }\n",
    "    \n"
   ]
  }
 ],
 "metadata": {
  "kernelspec": {
   "display_name": "base",
   "language": "python",
   "name": "python3"
  },
  "language_info": {
   "codemirror_mode": {
    "name": "ipython",
    "version": 3
   },
   "file_extension": ".py",
   "mimetype": "text/x-python",
   "name": "python",
   "nbconvert_exporter": "python",
   "pygments_lexer": "ipython3",
   "version": "3.12.7"
  }
 },
 "nbformat": 4,
 "nbformat_minor": 5
}

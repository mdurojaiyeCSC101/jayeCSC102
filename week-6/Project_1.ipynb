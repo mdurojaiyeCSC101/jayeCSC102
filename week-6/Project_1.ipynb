{
 "cells": [
  {
   "cell_type": "code",
   "execution_count": null,
   "id": "3115ecbb-f469-4c85-99cb-23c815575105",
   "metadata": {},
   "outputs": [],
   "source": [
    "import tkinter as tk\n",
    "from tkinter import messagebox\n",
    "\n",
    "def calculate_cost():\n",
    "    location = location_var.get()\n",
    "    weight = float(weight_var.get())\n",
    "    \n",
    "    if location == \"Ibeju-Lekki\":\n",
    "        if weight >= 10:\n",
    "            cost = 5000\n",
    "        else:\n",
    "            cost = 3500\n",
    "    elif location == \"Epe\":\n",
    "        if weight >= 10:\n",
    "            cost = 10000\n",
    "        else:\n",
    "            cost = 5000\n",
    "    else:\n",
    "        messagebox.showerror(\"Error\", \"Invalid location selected!\")\n",
    "        return\n",
    "    \n",
    "    messagebox.showinfo(\"Delivery Cost\", f\"The delivery cost is: N{cost}\")\n",
    "\n",
    "# Create the main window\n",
    "root = tk.Tk()\n",
    "root.title(\"Simi Services Delivery Cost Calculator\")\n",
    "\n",
    "# Location label and dropdown\n",
    "tk.Label(root, text=\"Select Location:\").grid(row=0, column=0, padx=10, pady=10)\n",
    "location_var = tk.StringVar()\n",
    "location_dropdown = tk.OptionMenu(root, location_var, \"Ibeju-Lekki\", \"Epe\")\n",
    "location_dropdown.grid(row=0, column=1, padx=10, pady=10)\n",
    "\n",
    "# Weight label and entry\n",
    "tk.Label(root, text=\"Enter Package Weight (kg):\").grid(row=1, column=0, padx=10, pady=10)\n",
    "weight_var = tk.StringVar()\n",
    "weight_entry = tk.Entry(root, textvariable=weight_var)\n",
    "weight_entry.grid(row=1, column=1, padx=10, pady=10)\n",
    "\n",
    "# Calculate button\n",
    "calculate_button = tk.Button(root, text=\"Calculate Cost\", command=calculate_cost)\n",
    "calculate_button.grid(row=2, column=0, columnspan=2, pady=20)\n",
    "\n",
    "# Run the application\n",
    "root.mainloop()"
   ]
  },
  {
   "cell_type": "code",
   "execution_count": null,
   "id": "ae6fbb5f",
   "metadata": {},
   "outputs": [],
   "source": []
  }
 ],
 "metadata": {
  "kernelspec": {
   "display_name": "Python [conda env:base] *",
   "language": "python",
   "name": "conda-base-py"
  },
  "language_info": {
   "codemirror_mode": {
    "name": "ipython",
    "version": 3
   },
   "file_extension": ".py",
   "mimetype": "text/x-python",
   "name": "python",
   "nbconvert_exporter": "python",
   "pygments_lexer": "ipython3",
   "version": "3.12.7"
  }
 },
 "nbformat": 4,
 "nbformat_minor": 5
}

{
 "cells": [
  {
   "cell_type": "code",
   "execution_count": 1,
   "id": "d7a249b0-1ff7-4d14-9ff7-bf29906e3855",
   "metadata": {},
   "outputs": [
    {
     "name": "stdin",
     "output_type": "stream",
     "text": [
      "Enter your name:  duro\n",
      "Enter your preferred department (Computer Science/Mass Communication):  Computer Science\n",
      "Enter your JAMB score:  281\n",
      "How many key subject credits do you have?  5\n",
      "Did you pass the interview? (yes/no):  yes\n"
     ]
    },
    {
     "name": "stdout",
     "output_type": "stream",
     "text": [
      "Congratulations, duro! You are admitted into Computer Science.\n",
      "\n",
      "Admitted candidates: ['duro']\n",
      "Not admitted candidates: []\n"
     ]
    }
   ],
   "source": [
    "\n",
    "admitted = []\n",
    "not_admitted = []\n",
    "\n",
    "def check_admission():\n",
    "\n",
    "    name = input(\"Enter your name: \")\n",
    "    department = input(\"Enter your preferred department (Computer Science/Mass Communication): \").strip().lower()\n",
    "    jamb_score = int(input(\"Enter your JAMB score: \"))\n",
    "    credits = int(input(\"How many key subject credits do you have? \"))\n",
    "    interview_passed = input(\"Did you pass the interview? (yes/no): \").strip().lower()\n",
    "\n",
    "    if department == \"computer science\":\n",
    "        if jamb_score >= 250 and credits >= 5 and interview_passed == \"yes\":\n",
    "            print(f\"Congratulations, {name}! You are admitted into Computer Science.\")\n",
    "            admitted.append(name)\n",
    "        else:\n",
    "            print(f\"Sorry, {name}. You did not meet the requirements for Computer Science.\")\n",
    "            not_admitted.append(name)\n",
    "    \n",
    "    elif department == \"mass communication\":\n",
    "        if jamb_score >= 230 and credits >= 5 and interview_passed == \"yes\":\n",
    "            print(f\"Congratulations, {name}! You are admitted into Mass Communication.\")\n",
    "            admitted.append(name)\n",
    "        else:\n",
    "            print(f\"Sorry, {name}. You did not meet the requirements for Mass Communication.\")\n",
    "            not_admitted.append(name)\n",
    "    \n",
    "\n",
    "    else:\n",
    "        print(f\"Sorry, {name}. The department '{department}' is not recognized.\")\n",
    "        not_admitted.append(name)\n",
    "\n",
    "check_admission()\n",
    "\n",
    "print(\"\\nAdmitted candidates:\", admitted)\n",
    "print(\"Not admitted candidates:\", not_admitted)"
   ]
  },
  {
   "cell_type": "code",
   "execution_count": null,
   "id": "58cf2d4f-652d-4c5b-a5d5-f0c81d25ba88",
   "metadata": {},
   "outputs": [],
   "source": []
  }
 ],
 "metadata": {
  "kernelspec": {
   "display_name": "Python [conda env:base] *",
   "language": "python",
   "name": "conda-base-py"
  },
  "language_info": {
   "codemirror_mode": {
    "name": "ipython",
    "version": 3
   },
   "file_extension": ".py",
   "mimetype": "text/x-python",
   "name": "python",
   "nbconvert_exporter": "python",
   "pygments_lexer": "ipython3",
   "version": "3.12.7"
  }
 },
 "nbformat": 4,
 "nbformat_minor": 5
}

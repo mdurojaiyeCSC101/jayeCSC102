{
 "cells": [
  {
   "cell_type": "code",
   "execution_count": 73,
   "id": "e998986b-b300-46ff-98d5-083b222f45e5",
   "metadata": {},
   "outputs": [
    {
     "name": "stdin",
     "output_type": "stream",
     "text": [
      "Ax^3 =  1\n",
      "Bx^2 =  -6\n",
      "Cx^1 =  11\n",
      "D =  -6\n"
     ]
    },
    {
     "name": "stdout",
     "output_type": "stream",
     "text": [
      "The roots of the cubic equation 1x^3 + -6x^2 + 11x + -6 = 0 are:\n",
      "[3. 2. 1.]\n"
     ]
    }
   ],
   "source": [
    "# TO FIND THE CUBE ROOTS OF A CUBIC EXPRESSION/EQUATION\n",
    "import numpy as np\n",
    "\n",
    "def find_cubic_roots(a, b, c, d):\n",
    "    \n",
    "# TO GET CO-EFFICIENT OF CUBIC EQUATION\n",
    "    coefficients = [a, b, c, d]\n",
    "    \n",
    "# FIND THE ROOTS USING NUMPY'S ROOTS FUNCTION\n",
    "    roots = np.roots(coefficients)\n",
    "  # TO ROUND UP DECIMALS USE r_roots = np.round(roots)\n",
    "    return roots\n",
    "a = int(input(\"Ax^3 = \"))\n",
    "b = int(input(\"Bx^2 = \"))\n",
    "c = int(input(\"Cx^1 = \"))\n",
    "d = int(input(\"D = \"))\n",
    "\n",
    "roots = find_cubic_roots(a,b,c,d)\n",
    "print(f\"The roots of the cubic equation {a}x^3 + {b}x^2 + {c}x + {d} = 0 are:\")\n",
    "print(roots)"
   ]
  },
  {
   "cell_type": "code",
   "execution_count": null,
   "id": "09cf6254-8756-49f1-9155-da7c55f991fe",
   "metadata": {},
   "outputs": [],
   "source": []
  },
  {
   "cell_type": "code",
   "execution_count": null,
   "id": "11b19e1d-7255-455a-8f8c-0c0ef4cf93ef",
   "metadata": {},
   "outputs": [],
   "source": []
  }
 ],
 "metadata": {
  "kernelspec": {
   "display_name": "Python [conda env:base] *",
   "language": "python",
   "name": "conda-base-py"
  },
  "language_info": {
   "codemirror_mode": {
    "name": "ipython",
    "version": 3
   },
   "file_extension": ".py",
   "mimetype": "text/x-python",
   "name": "python",
   "nbconvert_exporter": "python",
   "pygments_lexer": "ipython3",
   "version": "3.12.7"
  }
 },
 "nbformat": 4,
 "nbformat_minor": 5
}

{
 "cells": [
  {
   "cell_type": "code",
   "execution_count": 3,
   "id": "7a5ced34-4598-456f-a6ab-fa9c99c01d78",
   "metadata": {},
   "outputs": [
    {
     "name": "stdout",
     "output_type": "stream",
     "text": [
      "Iteration 1 of outer loop\n",
      "1\n",
      "2\n",
      "Out of inner loop\n",
      "Iteration 2 of outer loop\n",
      "1\n",
      "2\n",
      "Out of inner loop\n",
      "Iteration 3 of outer loop\n",
      "1\n",
      "2\n",
      "Out of inner loop\n",
      "Out of outer loop\n"
     ]
    }
   ],
   "source": [
    "for var1 in range(3):\n",
    "    print(\"Iteration \" + str(var1 + 1) + \" of outer loop\")\n",
    "    for var2 in range(2):\n",
    "        print(var2 + 1)\n",
    "    print(\"Out of inner loop\")\n",
    "print(\"Out of outer loop\")    "
   ]
  },
  {
   "cell_type": "code",
   "execution_count": 5,
   "id": "5cbd626f-4594-437b-8a5b-ba65f9203ac9",
   "metadata": {},
   "outputs": [
    {
     "name": "stdin",
     "output_type": "stream",
     "text": [
      "Enter the name of City 1:  London\n",
      "Enter the name of City 2:  Lisbon\n"
     ]
    },
    {
     "name": "stdout",
     "output_type": "stream",
     "text": [
      "The name of City 1 after swapping is Lisbon\n",
      "The name of City 2 after swapping is London\n"
     ]
    }
   ],
   "source": [
    "city_1 = input(\"Enter the name of City 1: \")\n",
    "city_2 = input(\"Enter the name of City 2: \")\n",
    "\n",
    "temp = city_1\n",
    "city_1 = city_2\n",
    "city_2 = temp\n",
    "\n",
    "print(f\"The name of City 1 after swapping is {city_1}\")\n",
    "print(f\"The name of City 2 after swapping is {city_2}\")"
   ]
  },
  {
   "cell_type": "code",
   "execution_count": 8,
   "id": "476a4c18-4355-47ed-b60b-b5cb53220d53",
   "metadata": {},
   "outputs": [
    {
     "name": "stdout",
     "output_type": "stream",
     "text": [
      "2\n",
      "6\n",
      "12\n",
      "20\n"
     ]
    }
   ],
   "source": [
    "count = 0\n",
    "for i in range(2,10,2):\n",
    "    count+= i\n",
    "    print(count)"
   ]
  },
  {
   "cell_type": "code",
   "execution_count": 9,
   "id": "00061ec5-b220-4d5d-8308-cdecdb5c12b5",
   "metadata": {},
   "outputs": [
    {
     "name": "stdout",
     "output_type": "stream",
     "text": [
      "-3\n"
     ]
    }
   ],
   "source": [
    "x = 0\n",
    "for i in range (1,6):\n",
    "    if i % 2 == 0:\n",
    "        x += i\n",
    "    else:\n",
    "        x -= i\n",
    "print(x)"
   ]
  },
  {
   "cell_type": "code",
   "execution_count": null,
   "id": "a1bbe1fb-dde4-433c-a550-b13d74797957",
   "metadata": {},
   "outputs": [],
   "source": []
  }
 ],
 "metadata": {
  "kernelspec": {
   "display_name": "Python 3 (ipykernel)",
   "language": "python",
   "name": "python3"
  },
  "language_info": {
   "codemirror_mode": {
    "name": "ipython",
    "version": 3
   },
   "file_extension": ".py",
   "mimetype": "text/x-python",
   "name": "python",
   "nbconvert_exporter": "python",
   "pygments_lexer": "ipython3",
   "version": "3.12.7"
  }
 },
 "nbformat": 4,
 "nbformat_minor": 5
}

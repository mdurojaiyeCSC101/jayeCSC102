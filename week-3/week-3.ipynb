{
 "cells": [
  {
   "cell_type": "code",
   "execution_count": 1,
   "id": "5d2d11d6-1b9b-49ce-8fb3-3fa8a62d2ed6",
   "metadata": {},
   "outputs": [
    {
     "name": "stdout",
     "output_type": "stream",
     "text": [
      "Hello world!\n"
     ]
    }
   ],
   "source": [
    "print(\"Hello world!\")"
   ]
  },
  {
   "cell_type": "code",
   "execution_count": 3,
   "id": "a609499d-ec66-4ab0-867a-9efdf46600e7",
   "metadata": {},
   "outputs": [
    {
     "name": "stdout",
     "output_type": "stream",
     "text": [
      "x:\n"
     ]
    }
   ],
   "source": [
    "print(\"x:\")"
   ]
  },
  {
   "cell_type": "code",
   "execution_count": 4,
   "id": "54f336a8-4d7a-42ad-8d51-1513e2920ed1",
   "metadata": {},
   "outputs": [
    {
     "name": "stdin",
     "output_type": "stream",
     "text": [
      "x: 7\n"
     ]
    }
   ],
   "source": [
    "x = input(\"x:\")"
   ]
  },
  {
   "cell_type": "code",
   "execution_count": 5,
   "id": "0fcc3b33-551d-479c-beed-d9bdd6cdc6a0",
   "metadata": {},
   "outputs": [
    {
     "name": "stdout",
     "output_type": "stream",
     "text": [
      "1\n"
     ]
    }
   ],
   "source": [
    "x = 50%7\n",
    "print(x)"
   ]
  },
  {
   "cell_type": "code",
   "execution_count": 7,
   "id": "c4545232-2501-4ce1-a144-0d5b6169ff1b",
   "metadata": {},
   "outputs": [
    {
     "name": "stdout",
     "output_type": "stream",
     "text": [
      "My name is Tobi and age 17 in room w_129\n"
     ]
    }
   ],
   "source": [
    "name = \"Tobi\"\n",
    "age = 17\n",
    "room = \"w_129\"\n",
    "ID = f\"My name is {name} and age {age} in room {room}\"\n",
    "print(ID)\n"
   ]
  },
  {
   "cell_type": "code",
   "execution_count": 8,
   "id": "3ae8c65b-cf05-4005-ab64-20c2aa74157a",
   "metadata": {},
   "outputs": [
    {
     "name": "stdout",
     "output_type": "stream",
     "text": [
      "['TOBY', 12, True, 'playstation', False, 56]\n"
     ]
    }
   ],
   "source": [
    "my_list = [\"TOBY\", 12, True, \"playstation\", False, 56]\n",
    "print(my_list)"
   ]
  },
  {
   "cell_type": "code",
   "execution_count": 9,
   "id": "f4c137e5-03cc-4cba-9f7f-68409bb32d11",
   "metadata": {},
   "outputs": [
    {
     "name": "stdout",
     "output_type": "stream",
     "text": [
      "['TOBY', 12, True, 'playstation', False, 56, 97]\n"
     ]
    }
   ],
   "source": [
    "my_list.append(97)\n",
    "print(my_list)"
   ]
  },
  {
   "cell_type": "code",
   "execution_count": 10,
   "id": "29a7386e-73a8-44fb-b949-5dfc8ab7b448",
   "metadata": {},
   "outputs": [
    {
     "name": "stdout",
     "output_type": "stream",
     "text": [
      "['TOBY', True, 'playstation', False, 56, 97]\n"
     ]
    }
   ],
   "source": [
    "my_list.remove(12)\n",
    "print(my_list)"
   ]
  },
  {
   "cell_type": "code",
   "execution_count": 13,
   "id": "69dcca6f-ccb0-41cb-b68c-6b68cf690867",
   "metadata": {},
   "outputs": [
    {
     "name": "stdout",
     "output_type": "stream",
     "text": [
      "['TOBY', True, 'playstation', False, 56, 97, 'blood']\n"
     ]
    }
   ],
   "source": [
    "my_list.append(\"blood\")\n",
    "print(my_list)"
   ]
  },
  {
   "cell_type": "code",
   "execution_count": 42,
   "id": "fa470e58-e31d-47e1-aee4-232a2cd06924",
   "metadata": {},
   "outputs": [
    {
     "name": "stdout",
     "output_type": "stream",
     "text": [
      "[20, 20, 20, 20, True, True, True, True, True, 'playstation', False, 56, 'blood', True]\n"
     ]
    }
   ],
   "source": [
    "my_list.insert(1, 20)\n",
    "print(my_list)"
   ]
  },
  {
   "cell_type": "code",
   "execution_count": 17,
   "id": "bb86f4f9-eb9f-4ad2-9c14-c79684217ff2",
   "metadata": {},
   "outputs": [
    {
     "name": "stdout",
     "output_type": "stream",
     "text": [
      "[True, True, False, 97]\n"
     ]
    }
   ],
   "source": [
    "print(my_list[::2])\n",
    "#SKIPS 2-1 = 1 CHARACTER AT A TIME"
   ]
  },
  {
   "cell_type": "code",
   "execution_count": 18,
   "id": "4b74b436-2b66-4123-9c37-e075fdc41baa",
   "metadata": {},
   "outputs": [
    {
     "name": "stdout",
     "output_type": "stream",
     "text": [
      "[True, 'playstation']\n"
     ]
    }
   ],
   "source": [
    "print(my_list[0:5:3])"
   ]
  },
  {
   "cell_type": "code",
   "execution_count": 22,
   "id": "027227b5-94aa-4314-bfc6-5a9dc8c6eec5",
   "metadata": {},
   "outputs": [
    {
     "name": "stdout",
     "output_type": "stream",
     "text": [
      "True\n",
      "False\n"
     ]
    }
   ],
   "source": [
    "# (IN) IS USED TO TELL EITHER TRUE OR FALSE\n",
    "# BCUZ it's whether the character is in the list or not\n",
    "\n",
    "if_there = 56 in my_list\n",
    "if_not_there = 'cry' in my_list\n",
    "print(if_there)\n",
    "print(if_not_there)"
   ]
  },
  {
   "cell_type": "code",
   "execution_count": 27,
   "id": "2ae51bf2-fe1f-4afe-a02a-f33021b4366e",
   "metadata": {},
   "outputs": [
    {
     "name": "stdout",
     "output_type": "stream",
     "text": [
      "[True, 'TOBY', True, 'playstation']\n",
      "playstation\n"
     ]
    }
   ],
   "source": [
    "print(my_list[:4])\n",
    "jo = my_list[-5]\n",
    "print(jo)"
   ]
  },
  {
   "cell_type": "code",
   "execution_count": 43,
   "id": "cd81067b-a213-458f-9558-c4e6a476c85c",
   "metadata": {},
   "outputs": [
    {
     "name": "stdout",
     "output_type": "stream",
     "text": [
      "[20, 20, 20, 20, True, True, True, True, True, 'playstation', False, 56, 'blood', True]\n"
     ]
    }
   ],
   "source": [
    "print(my_list)\n"
   ]
  },
  {
   "cell_type": "code",
   "execution_count": 57,
   "id": "114daa47-b3f2-465a-8c4b-bd7bc3d7f5bc",
   "metadata": {},
   "outputs": [
    {
     "name": "stdout",
     "output_type": "stream",
     "text": [
      "[20, True, 'playstation', 'blood']\n"
     ]
    }
   ],
   "source": [
    "my_list.remove(True)\n",
    "print(my_list)"
   ]
  },
  {
   "cell_type": "code",
   "execution_count": 58,
   "id": "bdd3d44d-7c6f-4ea4-aa94-168e52983acb",
   "metadata": {},
   "outputs": [
    {
     "name": "stdout",
     "output_type": "stream",
     "text": [
      "[20, True, 'playstation', 'blood']\n"
     ]
    }
   ],
   "source": [
    "print(my_list)\n"
   ]
  },
  {
   "cell_type": "code",
   "execution_count": 63,
   "id": "8861954a-6fb2-4497-a7ad-b281ac465849",
   "metadata": {},
   "outputs": [
    {
     "name": "stdout",
     "output_type": "stream",
     "text": [
      "[20, 'playstation']\n"
     ]
    }
   ],
   "source": [
    "print(my_list[0:3:2])"
   ]
  },
  {
   "cell_type": "code",
   "execution_count": 65,
   "id": "662e8251-766c-4f53-85df-2b89a7f64136",
   "metadata": {},
   "outputs": [
    {
     "name": "stdout",
     "output_type": "stream",
     "text": [
      "range(15, 65, 5)\n"
     ]
    },
    {
     "data": {
      "text/plain": [
       "[15, 20, 25, 30, 35, 40, 45, 50, 55, 60]"
      ]
     },
     "execution_count": 65,
     "metadata": {},
     "output_type": "execute_result"
    }
   ],
   "source": [
    "range1 = range(15,65,5)\n",
    "print(range1)\n",
    "# TO LIST THE RANGE STATED ABOVE\n",
    "list(range1)"
   ]
  },
  {
   "cell_type": "code",
   "execution_count": 74,
   "id": "0fbb7ea6-1c4d-434c-b3a6-8944297ba801",
   "metadata": {},
   "outputs": [
    {
     "data": {
      "text/plain": [
       "[0, 10, 20, 30, 40, 50, 60, 70, 80, 90]"
      ]
     },
     "execution_count": 74,
     "metadata": {},
     "output_type": "execute_result"
    }
   ],
   "source": [
    "range2 = range(0,100,10)\n",
    "list(range2)"
   ]
  },
  {
   "cell_type": "code",
   "execution_count": null,
   "id": "390099b4-64c3-42dd-91f2-da8a818e6ef6",
   "metadata": {},
   "outputs": [],
   "source": []
  },
  {
   "cell_type": "code",
   "execution_count": null,
   "id": "9b94a030-ac61-4600-b783-e3d3c92ef19e",
   "metadata": {},
   "outputs": [],
   "source": []
  }
 ],
 "metadata": {
  "kernelspec": {
   "display_name": "Python [conda env:base] *",
   "language": "python",
   "name": "conda-base-py"
  },
  "language_info": {
   "codemirror_mode": {
    "name": "ipython",
    "version": 3
   },
   "file_extension": ".py",
   "mimetype": "text/x-python",
   "name": "python",
   "nbconvert_exporter": "python",
   "pygments_lexer": "ipython3",
   "version": "3.12.7"
  }
 },
 "nbformat": 4,
 "nbformat_minor": 5
}

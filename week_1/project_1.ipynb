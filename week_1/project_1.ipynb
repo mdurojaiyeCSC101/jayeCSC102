{
 "cells": [
  {
   "cell_type": "code",
   "execution_count": 20,
   "id": "b968b5f6-c119-4e83-99bb-b52e55392a54",
   "metadata": {},
   "outputs": [
    {
     "name": "stdin",
     "output_type": "stream",
     "text": [
      "P=  15000\n",
      "R=  20\n",
      "T=  6\n"
     ]
    },
    {
     "name": "stdout",
     "output_type": "stream",
     "text": [
      " The Amount =  33000.0\n",
      "The Simple Interest =  18000.0\n"
     ]
    }
   ],
   "source": [
    "# TO SOLVE FOR SIMPLE INTEREST\n",
    "p = int(input(\"P= \"))\n",
    "r = int(input(\"R= \"))\n",
    "t = int(input(\"T= \"))\n",
    "A = p * (1 + (r/100) * t) \n",
    "print(f\" The Amount = \",A)\n",
    "SI = A - p\n",
    "print(f\"The Simple Interest = \",SI)\n"
   ]
  },
  {
   "cell_type": "code",
   "execution_count": 35,
   "id": "238cb163-182a-41af-9018-cc33c1bb6743",
   "metadata": {},
   "outputs": [
    {
     "name": "stdin",
     "output_type": "stream",
     "text": [
      "P=  15\n",
      "R=  5\n",
      "T=  2\n",
      "n=  1\n"
     ]
    },
    {
     "name": "stdout",
     "output_type": "stream",
     "text": [
      "The Amount =  22781250.0\n",
      "The Compound Interest =  22781235.0\n"
     ]
    }
   ],
   "source": [
    "# TO SOLVE FOR COMPOUND INTEREST\n",
    "p = int(input(\"P= \"))\n",
    "r = int(input(\"R= \"))\n",
    "t = int(input(\"T= \"))\n",
    "n = int(input(\"n= \"))\n",
    "A = p ** (1 + r/n) ** n * t\n",
    "print(f\"The Amount = \",A)\n",
    "CI = A - p\n",
    "print(f\"The Compound Interest = \",CI)"
   ]
  },
  {
   "cell_type": "code",
   "execution_count": 47,
   "id": "8ca05e32-8a66-4209-8e2e-7729b018dd8d",
   "metadata": {},
   "outputs": [
    {
     "name": "stdin",
     "output_type": "stream",
     "text": [
      "P=  15\n",
      "R=  5\n",
      "T=  2\n",
      "n=  1\n",
      "M=  10\n"
     ]
    },
    {
     "name": "stdout",
     "output_type": "stream",
     "text": [
      " The Amount =  660.0\n",
      "The Annuity Plan =  360.0\n"
     ]
    }
   ],
   "source": [
    "p = int(input(\"P= \"))\n",
    "r = int(input(\"R= \"))\n",
    "t = int(input(\"T= \"))\n",
    "n = int(input(\"n= \"))\n",
    "m = int(input(\"M= \"))\n",
    "v = ((1 + r / n) ** n * t - 1)\n",
    "P = p * m * t\n",
    "c = r / n\n",
    "A = P * v / c\n",
    "print(f\" The Amount = \",A)\n",
    "AP = A - P\n",
    "print(f\"The Annuity Plan = \",AP)"
   ]
  },
  {
   "cell_type": "code",
   "execution_count": null,
   "id": "a9d4082c-ceaa-4fcc-a972-4f1e2a9bf927",
   "metadata": {},
   "outputs": [],
   "source": []
  }
 ],
 "metadata": {
  "kernelspec": {
   "display_name": "Python [conda env:base] *",
   "language": "python",
   "name": "conda-base-py"
  },
  "language_info": {
   "codemirror_mode": {
    "name": "ipython",
    "version": 3
   },
   "file_extension": ".py",
   "mimetype": "text/x-python",
   "name": "python",
   "nbconvert_exporter": "python",
   "pygments_lexer": "ipython3",
   "version": "3.12.7"
  }
 },
 "nbformat": 4,
 "nbformat_minor": 5
}

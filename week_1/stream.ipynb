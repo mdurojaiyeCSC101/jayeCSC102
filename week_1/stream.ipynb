x = 5 + 3
print(x)

y = 10 % 3
print(y)
